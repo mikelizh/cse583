{
 "cells": [
  {
   "cell_type": "code",
   "execution_count": 1,
   "metadata": {},
   "outputs": [
    {
     "name": "stdout",
     "output_type": "stream",
     "text": [
      "Section 1 Gradebook:\n",
      "         raw_grade did_extra_credit final_grade\n",
      "Hao            NaN              NaN         NaN\n",
      "Jennifer       NaN              NaN         NaN\n",
      "Alex           NaN              NaN         NaN\n",
      "\n",
      "\n",
      "Section 2 Gradebook:\n",
      "        raw_grade did_extra_credit final_grade\n",
      "Christa       NaN              NaN         NaN\n",
      "Troy          NaN              NaN         NaN\n",
      "Xin           NaN              NaN         NaN\n"
     ]
    }
   ],
   "source": [
    "# Example: We're going to use Pandas dataframes to create a gradebook for this course\n",
    "\n",
    "import pandas as pd\n",
    "\n",
    "# Student Rosters:\n",
    "section_1_students = ['Hao', 'Jennifer', 'Alex']\n",
    "section_2_students = ['Christa', 'Troy', 'Xin']\n",
    "\n",
    "# Gradebook columns:\n",
    "columns = ['raw_grade', 'did_extra_credit', 'final_grade']\n",
    "\n",
    "# Let's create two dataframes, one for each class section\n",
    "section_1_gradebook = pd.DataFrame(index=section_1_students, columns=columns)\n",
    "section_2_gradebook = pd.DataFrame(index=section_2_students, columns=columns)\n",
    "\n",
    "print(\"Section 1 Gradebook:\")\n",
    "print(section_1_gradebook)\n",
    "\n",
    "print(\"\\n\") # prints a newline character to put an empty line\n",
    "\n",
    "print(\"Section 2 Gradebook:\")\n",
    "print(section_2_gradebook)"
   ]
  },
  {
   "cell_type": "code",
   "execution_count": 2,
   "metadata": {},
   "outputs": [
    {
     "name": "stdout",
     "output_type": "stream",
     "text": [
      "Section 1 Gradebook:\n",
      "         raw_grade did_extra_credit final_grade\n",
      "Hao             80             True         NaN\n",
      "Jennifer        98            False         NaN\n",
      "Alex            85             True         NaN\n",
      "\n",
      "\n",
      "Section 2 Gradebook:\n",
      "        raw_grade did_extra_credit final_grade\n",
      "Christa        91            False         NaN\n",
      "Troy           89             True         NaN\n",
      "Xin            89            False         NaN\n"
     ]
    }
   ],
   "source": [
    "# Now let's add some data\n",
    "# (in real life we might load this from a CSV or other file)\n",
    "section_1_gradebook.loc['Hao']['raw_grade'] = 80\n",
    "section_1_gradebook.loc['Hao']['did_extra_credit'] = True # python supports boolean (True/False) values\n",
    "section_1_gradebook.loc['Jennifer']['raw_grade'] = 98\n",
    "section_1_gradebook.loc['Jennifer']['did_extra_credit'] = False\n",
    "section_1_gradebook.loc['Alex']['raw_grade'] = 85\n",
    "section_1_gradebook.loc['Alex']['did_extra_credit'] = True\n",
    "\n",
    "section_2_gradebook.loc['Christa']['raw_grade'] = 91\n",
    "section_2_gradebook.loc['Christa']['did_extra_credit'] = False\n",
    "section_2_gradebook.loc['Troy']['raw_grade'] = 89\n",
    "section_2_gradebook.loc['Troy']['did_extra_credit'] = True\n",
    "section_2_gradebook.loc['Xin']['raw_grade'] = 89\n",
    "section_2_gradebook.loc['Xin']['did_extra_credit'] = False\n",
    "                            \n",
    "print(\"Section 1 Gradebook:\")\n",
    "print(section_1_gradebook)\n",
    "\n",
    "print(\"\\n\") # prints a newline character to put an empty line\n",
    "\n",
    "print(\"Section 2 Gradebook:\")\n",
    "print(section_2_gradebook)"
   ]
  },
  {
   "cell_type": "code",
   "execution_count": null,
   "metadata": {},
   "outputs": [],
   "source": [
    "def add_final_grades_for_section(gradebook, extra_credit_value):\n",
    "    for student in gradebook.index\n",
    "        if gradebook.loc[student]['did_extra_credit']:\n",
    "            gradebook = add_final_grades_for_student\n",
    "        else:\n",
    "            gradebook.loc[student]['final_grade'] "
   ]
  },
  {
   "cell_type": "code",
   "execution_count": 9,
   "metadata": {},
   "outputs": [
    {
     "data": {
      "text/plain": [
       "True"
      ]
     },
     "execution_count": 9,
     "metadata": {},
     "output_type": "execute_result"
    }
   ],
   "source": [
    "# Determine if num is prime\n",
    "# This code has a bug. What is it?\n",
    "# Also, the efficiency of the code can be improved. How?\n",
    "\n",
    "import numpy as np\n",
    "def prime_test(num):\n",
    "    for integer in range(2, np.sqrt(num)):\n",
    "        if num % integer == 0: \n",
    "        # The \"==\" operator checks for equality and returns True or False. \n",
    "        # Note the difference between \"==\" and \"=\", which assigns a value to a variable.\n",
    "        #\n",
    "        # The \"%\" operator calculates the remainder of a division operation\n",
    "        # if the remainder is zero, integer is a divisor of num, so num is not prime\n",
    "            return False\n",
    "        return True\n",
    "            \n",
    "prime_test(5)"
   ]
  },
  {
   "cell_type": "code",
   "execution_count": null,
   "metadata": {},
   "outputs": [],
   "source": []
  }
 ],
 "metadata": {
  "kernelspec": {
   "display_name": "Python 3",
   "language": "python",
   "name": "python3"
  },
  "language_info": {
   "codemirror_mode": {
    "name": "ipython",
    "version": 3
   },
   "file_extension": ".py",
   "mimetype": "text/x-python",
   "name": "python",
   "nbconvert_exporter": "python",
   "pygments_lexer": "ipython3",
   "version": "3.7.0"
  }
 },
 "nbformat": 4,
 "nbformat_minor": 2
}
